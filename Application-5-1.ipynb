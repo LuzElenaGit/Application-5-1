{
 "cells": [
  {
   "cell_type": "markdown",
   "metadata": {
    "id": "CcUT6Fon_qRE"
   },
   "source": [
    "### Required Assignment 5.1: Will the Customer Accept the Coupon?\n",
    "\n",
    "**Context**\n",
    "\n",
    "Imagine driving through town and a coupon is delivered to your cell phone for a restaurant near where you are driving. Would you accept that coupon and take a short detour to the restaurant? Would you accept the coupon but use it on a subsequent trip? Would you ignore the coupon entirely? What if the coupon was for a bar instead of a restaurant? What about a coffee house? Would you accept a bar coupon with a minor passenger in the car? What about if it was just you and your partner in the car? Would weather impact the rate of acceptance? What about the time of day?\n",
    "\n",
    "Obviously, proximity to the business is a factor on whether the coupon is delivered to the driver or not, but what are the factors that determine whether a driver accepts the coupon once it is delivered to them? How would you determine whether a driver is likely to accept a coupon?\n",
    "\n",
    "**Overview**\n",
    "\n",
    "The goal of this project is to use what you know about visualizations and probability distributions to distinguish between customers who accepted a driving coupon versus those that did not.\n",
    "\n",
    "**Data**\n",
    "\n",
    "This data comes to us from the UCI Machine Learning repository and was collected via a survey on Amazon Mechanical Turk. The survey describes different driving scenarios including the destination, current time, weather, passenger, etc., and then ask the person whether he will accept the coupon if he is the driver. Answers that the user will drive there ‘right away’ or ‘later before the coupon expires’ are labeled as ‘Y = 1’ and answers ‘no, I do not want the coupon’ are labeled as ‘Y = 0’.  There are five different types of coupons -- less expensive restaurants (under \\$20), coffee houses, carry out & take away, bar, and more expensive restaurants (\\$20 - $50)."
   ]
  },
  {
   "cell_type": "markdown",
   "metadata": {
    "id": "1wORvMBJ_qRF"
   },
   "source": [
    "**Deliverables**\n",
    "\n",
    "Your final product should be a brief report that highlights the differences between customers who did and did not accept the coupons.  To explore the data you will utilize your knowledge of plotting, statistical summaries, and visualization using Python. You will publish your findings in a public facing github repository as your first portfolio piece.\n",
    "\n",
    "\n",
    "\n"
   ]
  },
  {
   "cell_type": "markdown",
   "metadata": {
    "id": "pG6_Ym6q_qRG"
   },
   "source": [
    "### Data Description\n",
    "Keep in mind that these values mentioned below are average values.\n",
    "\n",
    "The attributes of this data set include:\n",
    "1. User attributes\n",
    "    -  Gender: male, female\n",
    "    -  Age: below 21, 21 to 25, 26 to 30, etc.\n",
    "    -  Marital Status: single, married partner, unmarried partner, or widowed\n",
    "    -  Number of children: 0, 1, or more than 1\n",
    "    -  Education: high school, bachelors degree, associates degree, or graduate degree\n",
    "    -  Occupation: architecture & engineering, business & financial, etc.\n",
    "    -  Annual income: less than \\\\$12500, \\\\$12500 - \\\\$24999, \\\\$25000 - \\\\$37499, etc.\n",
    "    -  Number of times that he/she goes to a bar: 0, less than 1, 1 to 3, 4 to 8 or greater than 8\n",
    "    -  Number of times that he/she buys takeaway food: 0, less than 1, 1 to 3, 4 to 8 or greater\n",
    "    than 8\n",
    "    -  Number of times that he/she goes to a coffee house: 0, less than 1, 1 to 3, 4 to 8 or\n",
    "    greater than 8\n",
    "    -  Number of times that he/she eats at a restaurant with average expense less than \\\\$20 per\n",
    "    person: 0, less than 1, 1 to 3, 4 to 8 or greater than 8\n",
    "    -  Number of times that he/she goes to a bar: 0, less than 1, 1 to 3, 4 to 8 or greater than 8\n",
    "    \n",
    "\n",
    "2. Contextual attributes\n",
    "    - Driving destination: home, work, or no urgent destination\n",
    "    - Location of user, coupon and destination: we provide a map to show the geographical\n",
    "    location of the user, destination, and the venue, and we mark the distance between each\n",
    "    two places with time of driving. The user can see whether the venue is in the same\n",
    "    direction as the destination.\n",
    "    - Weather: sunny, rainy, or snowy\n",
    "    - Temperature: 30F, 55F, or 80F\n",
    "    - Time: 10AM, 2PM, or 6PM\n",
    "    - Passenger: alone, partner, kid(s), or friend(s)\n",
    "\n",
    "\n",
    "3. Coupon attributes\n",
    "    - time before it expires: 2 hours or one day"
   ]
  },
  {
   "cell_type": "code",
   "execution_count": 5,
   "metadata": {
    "id": "dzNoP3o__qRG"
   },
   "outputs": [],
   "source": [
    "import matplotlib.pyplot as plt\n",
    "import seaborn as sns\n",
    "import pandas as pd\n",
    "import numpy as np"
   ]
  },
  {
   "cell_type": "markdown",
   "metadata": {
    "id": "Ct8pI1uE_qRG"
   },
   "source": [
    "### Problems\n",
    "\n",
    "Use the prompts below to get started with your data analysis.  \n",
    "\n",
    "1. Read in the `coupons.csv` file.\n",
    "\n",
    "\n"
   ]
  },
  {
   "cell_type": "code",
   "execution_count": 7,
   "metadata": {
    "colab": {
     "base_uri": "https://localhost:8080/",
     "height": 146
    },
    "id": "X0vbffYg_qRH",
    "outputId": "5c75d8f5-5486-4bf1-bf9c-e1d3d49285bc"
   },
   "outputs": [],
   "source": [
    "data = pd.read_csv('/Users/luzejames/Documents/Python/Git/assignment5_1_starter/data/coupons.csv')"
   ]
  },
  {
   "cell_type": "code",
   "execution_count": 10,
   "metadata": {
    "colab": {
     "base_uri": "https://localhost:8080/",
     "height": 342
    },
    "id": "TXofQ_DF_qRH",
    "outputId": "e61ad8a8-2755-40c0-d041-3d37b09cb303"
   },
   "outputs": [
    {
     "data": {
      "text/html": [
       "<div>\n",
       "<style scoped>\n",
       "    .dataframe tbody tr th:only-of-type {\n",
       "        vertical-align: middle;\n",
       "    }\n",
       "\n",
       "    .dataframe tbody tr th {\n",
       "        vertical-align: top;\n",
       "    }\n",
       "\n",
       "    .dataframe thead th {\n",
       "        text-align: right;\n",
       "    }\n",
       "</style>\n",
       "<table border=\"1\" class=\"dataframe\">\n",
       "  <thead>\n",
       "    <tr style=\"text-align: right;\">\n",
       "      <th></th>\n",
       "      <th>destination</th>\n",
       "      <th>passanger</th>\n",
       "      <th>weather</th>\n",
       "      <th>temperature</th>\n",
       "      <th>time</th>\n",
       "      <th>coupon</th>\n",
       "      <th>expiration</th>\n",
       "      <th>gender</th>\n",
       "      <th>age</th>\n",
       "      <th>maritalStatus</th>\n",
       "      <th>...</th>\n",
       "      <th>CoffeeHouse</th>\n",
       "      <th>CarryAway</th>\n",
       "      <th>RestaurantLessThan20</th>\n",
       "      <th>Restaurant20To50</th>\n",
       "      <th>toCoupon_GEQ5min</th>\n",
       "      <th>toCoupon_GEQ15min</th>\n",
       "      <th>toCoupon_GEQ25min</th>\n",
       "      <th>direction_same</th>\n",
       "      <th>direction_opp</th>\n",
       "      <th>Y</th>\n",
       "    </tr>\n",
       "  </thead>\n",
       "  <tbody>\n",
       "    <tr>\n",
       "      <th>0</th>\n",
       "      <td>No Urgent Place</td>\n",
       "      <td>Alone</td>\n",
       "      <td>Sunny</td>\n",
       "      <td>55</td>\n",
       "      <td>2PM</td>\n",
       "      <td>Restaurant(&lt;20)</td>\n",
       "      <td>1d</td>\n",
       "      <td>Female</td>\n",
       "      <td>21</td>\n",
       "      <td>Unmarried partner</td>\n",
       "      <td>...</td>\n",
       "      <td>never</td>\n",
       "      <td>NaN</td>\n",
       "      <td>4~8</td>\n",
       "      <td>1~3</td>\n",
       "      <td>1</td>\n",
       "      <td>0</td>\n",
       "      <td>0</td>\n",
       "      <td>0</td>\n",
       "      <td>1</td>\n",
       "      <td>1</td>\n",
       "    </tr>\n",
       "    <tr>\n",
       "      <th>1</th>\n",
       "      <td>No Urgent Place</td>\n",
       "      <td>Friend(s)</td>\n",
       "      <td>Sunny</td>\n",
       "      <td>80</td>\n",
       "      <td>10AM</td>\n",
       "      <td>Coffee House</td>\n",
       "      <td>2h</td>\n",
       "      <td>Female</td>\n",
       "      <td>21</td>\n",
       "      <td>Unmarried partner</td>\n",
       "      <td>...</td>\n",
       "      <td>never</td>\n",
       "      <td>NaN</td>\n",
       "      <td>4~8</td>\n",
       "      <td>1~3</td>\n",
       "      <td>1</td>\n",
       "      <td>0</td>\n",
       "      <td>0</td>\n",
       "      <td>0</td>\n",
       "      <td>1</td>\n",
       "      <td>0</td>\n",
       "    </tr>\n",
       "    <tr>\n",
       "      <th>2</th>\n",
       "      <td>No Urgent Place</td>\n",
       "      <td>Friend(s)</td>\n",
       "      <td>Sunny</td>\n",
       "      <td>80</td>\n",
       "      <td>10AM</td>\n",
       "      <td>Carry out &amp; Take away</td>\n",
       "      <td>2h</td>\n",
       "      <td>Female</td>\n",
       "      <td>21</td>\n",
       "      <td>Unmarried partner</td>\n",
       "      <td>...</td>\n",
       "      <td>never</td>\n",
       "      <td>NaN</td>\n",
       "      <td>4~8</td>\n",
       "      <td>1~3</td>\n",
       "      <td>1</td>\n",
       "      <td>1</td>\n",
       "      <td>0</td>\n",
       "      <td>0</td>\n",
       "      <td>1</td>\n",
       "      <td>1</td>\n",
       "    </tr>\n",
       "    <tr>\n",
       "      <th>3</th>\n",
       "      <td>No Urgent Place</td>\n",
       "      <td>Friend(s)</td>\n",
       "      <td>Sunny</td>\n",
       "      <td>80</td>\n",
       "      <td>2PM</td>\n",
       "      <td>Coffee House</td>\n",
       "      <td>2h</td>\n",
       "      <td>Female</td>\n",
       "      <td>21</td>\n",
       "      <td>Unmarried partner</td>\n",
       "      <td>...</td>\n",
       "      <td>never</td>\n",
       "      <td>NaN</td>\n",
       "      <td>4~8</td>\n",
       "      <td>1~3</td>\n",
       "      <td>1</td>\n",
       "      <td>1</td>\n",
       "      <td>0</td>\n",
       "      <td>0</td>\n",
       "      <td>1</td>\n",
       "      <td>0</td>\n",
       "    </tr>\n",
       "    <tr>\n",
       "      <th>4</th>\n",
       "      <td>No Urgent Place</td>\n",
       "      <td>Friend(s)</td>\n",
       "      <td>Sunny</td>\n",
       "      <td>80</td>\n",
       "      <td>2PM</td>\n",
       "      <td>Coffee House</td>\n",
       "      <td>1d</td>\n",
       "      <td>Female</td>\n",
       "      <td>21</td>\n",
       "      <td>Unmarried partner</td>\n",
       "      <td>...</td>\n",
       "      <td>never</td>\n",
       "      <td>NaN</td>\n",
       "      <td>4~8</td>\n",
       "      <td>1~3</td>\n",
       "      <td>1</td>\n",
       "      <td>1</td>\n",
       "      <td>0</td>\n",
       "      <td>0</td>\n",
       "      <td>1</td>\n",
       "      <td>0</td>\n",
       "    </tr>\n",
       "  </tbody>\n",
       "</table>\n",
       "<p>5 rows × 26 columns</p>\n",
       "</div>"
      ],
      "text/plain": [
       "       destination  passanger weather  temperature  time  \\\n",
       "0  No Urgent Place      Alone   Sunny           55   2PM   \n",
       "1  No Urgent Place  Friend(s)   Sunny           80  10AM   \n",
       "2  No Urgent Place  Friend(s)   Sunny           80  10AM   \n",
       "3  No Urgent Place  Friend(s)   Sunny           80   2PM   \n",
       "4  No Urgent Place  Friend(s)   Sunny           80   2PM   \n",
       "\n",
       "                  coupon expiration  gender age      maritalStatus  ...  \\\n",
       "0        Restaurant(<20)         1d  Female  21  Unmarried partner  ...   \n",
       "1           Coffee House         2h  Female  21  Unmarried partner  ...   \n",
       "2  Carry out & Take away         2h  Female  21  Unmarried partner  ...   \n",
       "3           Coffee House         2h  Female  21  Unmarried partner  ...   \n",
       "4           Coffee House         1d  Female  21  Unmarried partner  ...   \n",
       "\n",
       "   CoffeeHouse CarryAway RestaurantLessThan20 Restaurant20To50  \\\n",
       "0        never       NaN                  4~8              1~3   \n",
       "1        never       NaN                  4~8              1~3   \n",
       "2        never       NaN                  4~8              1~3   \n",
       "3        never       NaN                  4~8              1~3   \n",
       "4        never       NaN                  4~8              1~3   \n",
       "\n",
       "  toCoupon_GEQ5min toCoupon_GEQ15min toCoupon_GEQ25min direction_same  \\\n",
       "0                1                 0                 0              0   \n",
       "1                1                 0                 0              0   \n",
       "2                1                 1                 0              0   \n",
       "3                1                 1                 0              0   \n",
       "4                1                 1                 0              0   \n",
       "\n",
       "  direction_opp  Y  \n",
       "0             1  1  \n",
       "1             1  0  \n",
       "2             1  1  \n",
       "3             1  0  \n",
       "4             1  0  \n",
       "\n",
       "[5 rows x 26 columns]"
      ]
     },
     "execution_count": 10,
     "metadata": {},
     "output_type": "execute_result"
    }
   ],
   "source": [
    "data.head()"
   ]
  },
  {
   "cell_type": "markdown",
   "metadata": {
    "id": "GcDs78ZH_qRH"
   },
   "source": [
    "2. Investigate the dataset for missing or problematic data."
   ]
  },
  {
   "cell_type": "code",
   "execution_count": 13,
   "metadata": {
    "colab": {
     "base_uri": "https://localhost:8080/",
     "height": 899
    },
    "id": "6CwL6oWj_qRH",
    "outputId": "e1ddb6c9-9973-4856-8119-4298460495ef"
   },
   "outputs": [
    {
     "data": {
      "text/plain": [
       "destination                 0\n",
       "passanger                   0\n",
       "weather                     0\n",
       "temperature                 0\n",
       "time                        0\n",
       "coupon                      0\n",
       "expiration                  0\n",
       "gender                      0\n",
       "age                         0\n",
       "maritalStatus               0\n",
       "has_children                0\n",
       "education                   0\n",
       "occupation                  0\n",
       "income                      0\n",
       "car                     12576\n",
       "Bar                       107\n",
       "CoffeeHouse               217\n",
       "CarryAway                 151\n",
       "RestaurantLessThan20      130\n",
       "Restaurant20To50          189\n",
       "toCoupon_GEQ5min            0\n",
       "toCoupon_GEQ15min           0\n",
       "toCoupon_GEQ25min           0\n",
       "direction_same              0\n",
       "direction_opp               0\n",
       "Y                           0\n",
       "dtype: int64"
      ]
     },
     "execution_count": 13,
     "metadata": {},
     "output_type": "execute_result"
    }
   ],
   "source": [
    "data.shape[0]\n",
    "data.isnull().sum()"
   ]
  },
  {
   "cell_type": "markdown",
   "metadata": {
    "id": "bSdVSpYB_qRH"
   },
   "source": [
    "3. Decide what to do about your missing data -- drop, replace, other..."
   ]
  },
  {
   "cell_type": "code",
   "execution_count": 16,
   "metadata": {
    "colab": {
     "base_uri": "https://localhost:8080/"
    },
    "id": "wNoa2MRJ5c_A",
    "outputId": "7037deeb-aa37-4cfc-f50d-28b1abd731a2"
   },
   "outputs": [
    {
     "name": "stdout",
     "output_type": "stream",
     "text": [
      "Percentage of Missing Records\n",
      "Car: 99.15%\n",
      "Bar: 0.84%\n",
      "CoffeeHouse: 1.71%\n",
      "CarryAway: 1.19%\n",
      "RestaurantLessThan20: 1.02%\n",
      "Restaurant20To50: 1.49%\n"
     ]
    }
   ],
   "source": [
    "# Look at the percentages of data missing, compared against the total number of records\n",
    "print('Percentage of Missing Records')\n",
    "print('Car:', f\"{(data['car'].isnull().sum() * 100)/ data.shape[0]:.2f}%\")\n",
    "print('Bar:', f\"{(data['Bar'].isnull().sum() * 100)/ data.shape[0]:.2f}%\")\n",
    "print('CoffeeHouse:', f\"{(data['CoffeeHouse'].isnull().sum() * 100)/ data.shape[0]:.2f}%\")\n",
    "print('CarryAway:', f\"{(data['CarryAway'].isnull().sum() * 100)/ data.shape[0]:.2f}%\")\n",
    "print('RestaurantLessThan20:', f\"{(data['RestaurantLessThan20'].isnull().sum() * 100)/ data.shape[0]:.2f}%\")\n",
    "print('Restaurant20To50:', f\"{(data['Restaurant20To50'].isnull().sum() * 100)/ data.shape[0]:.2f}%\")\n"
   ]
  },
  {
   "cell_type": "code",
   "execution_count": 18,
   "metadata": {
    "id": "tyvoAC5F_qRI"
   },
   "outputs": [],
   "source": [
    "# Drop the car column since it contains too many records without information.\n",
    "data = data.drop(columns=['car'])"
   ]
  },
  {
   "cell_type": "code",
   "execution_count": 20,
   "metadata": {
    "id": "DRYSYfRd5c_B"
   },
   "outputs": [],
   "source": [
    "# Replace the cells that contain null values with the most repeated value in each one of the following columns\n",
    "\n",
    "data['Bar'] = data['Bar'].fillna(data['Bar'].value_counts().idxmax())#never\n",
    "data['CoffeeHouse'] = data['CoffeeHouse'].fillna(data['CoffeeHouse'].value_counts().idxmax()) #less1\n",
    "data['CarryAway'] = data['CarryAway'].fillna(data['CarryAway'].value_counts().idxmax())   #1~3\n",
    "data['RestaurantLessThan20'] = data['RestaurantLessThan20'].fillna(data['RestaurantLessThan20'].value_counts().idxmax())   #1~3\n",
    "data['Restaurant20To50'] = data['Restaurant20To50'].fillna(data['Restaurant20To50'].value_counts().idxmax())\n",
    "\n"
   ]
  },
  {
   "cell_type": "markdown",
   "metadata": {
    "id": "YE6oJbXd_qRI"
   },
   "source": [
    "4. What proportion of the total observations chose to accept the coupon?\n",
    "\n"
   ]
  },
  {
   "cell_type": "code",
   "execution_count": 23,
   "metadata": {
    "colab": {
     "base_uri": "https://localhost:8080/"
    },
    "id": "86GGqBTv_qRI",
    "outputId": "088e0ca8-254c-4a7a-e478-d0a63584a503"
   },
   "outputs": [
    {
     "name": "stdout",
     "output_type": "stream",
     "text": [
      "A total of 56.84% accepted a coupon\n"
     ]
    }
   ],
   "source": [
    "# Create a new Dataframe that contains only the records of people that accepted the coupon\n",
    "\n",
    "data_accept = data[data['Y']==1]\n",
    "# Count number of people that accepted\n",
    "accepted_coupon = len(data_accept)\n",
    "# Get the percentage\n",
    "acceptance_percentage = (accepted_coupon * 100)/data.shape[0]\n",
    "\n",
    "print(f\"A total of {acceptance_percentage:.2f}% accepted a coupon\")\n"
   ]
  },
  {
   "cell_type": "markdown",
   "metadata": {
    "id": "vflz0DoE_qRI"
   },
   "source": [
    "5. Use a bar plot to visualize the `coupon` column."
   ]
  },
  {
   "cell_type": "code",
   "execution_count": 26,
   "metadata": {
    "colab": {
     "base_uri": "https://localhost:8080/",
     "height": 607
    },
    "id": "dHFh3E45_qRI",
    "outputId": "69dd37f3-3124-478c-a286-743379270bc3"
   },
   "outputs": [
    {
     "data": {
      "image/png": "[encoded data removed]",
      "text/plain": [
       "<Figure size 800x600 with 1 Axes>"
      ]
     },
     "metadata": {},
     "output_type": "display_data"
    }
   ],
   "source": [
    "\n",
    "# Create a figure \n",
    "plt.figure(figsize=(8,6))\n",
    "\n",
    "# Count the number of people that accepted each coupon type and create a bar plot \n",
    "data_accept['coupon'].value_counts().plot(kind='bar')\n",
    "\n",
    "# Add labels and titles\n",
    "plt.xlabel('Coupon Type')\n",
    "plt.ylabel('Number of People that accepted the coupon type')\n",
    "plt.title('Bar Plot of Coupon Data')\n",
    "\n",
    "# Adjust the labels for the x axis\n",
    "plt.xticks(rotation=45, ha = 'center')\n",
    "plt.tight_layout()\n",
    "plt.show()\n"
   ]
  },
  {
   "cell_type": "markdown",
   "metadata": {
    "id": "Qw4lCyx2_qRI"
   },
   "source": [
    "6. Use a histogram to visualize the temperature column."
   ]
  },
  {
   "cell_type": "code",
   "execution_count": 29,
   "metadata": {
    "colab": {
     "base_uri": "https://localhost:8080/",
     "height": 607
    },
    "id": "Yg9Anv71_qRI",
    "outputId": "db867298-c3df-468c-cee4-8b20126b4485"
   },
   "outputs": [
    {
     "data": {
      "image/png": "[encoded data removed]",
      "text/plain": [
       "<Figure size 600x300 with 1 Axes>"
      ]
     },
     "metadata": {},
     "output_type": "display_data"
    }
   ],
   "source": [
    "# Create a figure \n",
    "plt.figure(figsize=(6, 3))\n",
    "\n",
    "# Get the temperature data and plot the graph\n",
    "plt.hist(data_accept['temperature'], bins=20, edgecolor='black')\n",
    "\n",
    "# Add labels and title\n",
    "plt.xlabel('Temperature')\n",
    "plt.ylabel('# Drivers accepting a Coupon')\n",
    "plt.title('Temperature when drivers accepted a coupon')\n",
    "\n",
    "# Display the plot\n",
    "plt.tight_layout()\n",
    "plt.show()"
   ]
  },
  {
   "cell_type": "markdown",
   "metadata": {
    "id": "FupfgeJk_qRJ"
   },
   "source": [
    "**Investigating the Bar Coupons**\n",
    "\n",
    "Now, we will lead you through an exploration of just the bar related coupons.  \n",
    "\n",
    "1. Create a new `DataFrame` that contains just the bar coupons.\n"
   ]
  },
  {
   "cell_type": "code",
   "execution_count": 32,
   "metadata": {
    "colab": {
     "base_uri": "https://localhost:8080/",
     "height": 429
    },
    "id": "tMBlWuGq_qRJ",
    "outputId": "54e4feac-6db3-4a48-98df-29cb24d46fac"
   },
   "outputs": [
    {
     "data": {
      "text/plain": [
       "Bar\n",
       "less1    1963\n",
       "1~3      1538\n",
       "4~8       686\n",
       "gt8       201\n",
       "Name: count, dtype: int64"
      ]
     },
     "execution_count": 32,
     "metadata": {},
     "output_type": "execute_result"
    }
   ],
   "source": [
    "# New Dataframe with just the Bar coupons data\n",
    "\n",
    "data_bar = data_accept[data_accept['Bar'] != 'never'] \n",
    "\n",
    "data_bar['Bar'].value_counts()\n",
    "#data_accept.shape[0] "
   ]
  },
  {
   "cell_type": "markdown",
   "metadata": {
    "id": "8ue6uCqf_qRJ"
   },
   "source": [
    "2. What proportion of bar coupons were accepted?\n"
   ]
  },
  {
   "cell_type": "code",
   "execution_count": 35,
   "metadata": {
    "colab": {
     "base_uri": "https://localhost:8080/"
    },
    "id": "hSdte8Mi_qRK",
    "outputId": "bc252b19-dd8c-44ed-8543-be0b0f8cd070"
   },
   "outputs": [
    {
     "name": "stdout",
     "output_type": "stream",
     "text": [
      "Proportion of bar coupons accepted: 34.59%\n",
      "\n"
     ]
    },
    {
     "data": {
      "image/png": "[encoded data removed]",
      "text/plain": [
       "<Figure size 600x400 with 1 Axes>"
      ]
     },
     "metadata": {},
     "output_type": "display_data"
    }
   ],
   "source": [
    "# Calculate the number of people that accepted the bar coupon by excluding people that never went to the bar\n",
    "bar_accept = len(data_bar) \n",
    "\n",
    "# Calculate the proportion\n",
    "bar_proportion = (bar_accept * 100) / data.shape[0]   \n",
    "\n",
    "print(f\"Proportion of bar coupons accepted: {bar_proportion:.2f}%\")\n",
    "print(\"\")\n",
    "plt.figure(figsize=(6, 4))  \n",
    "data_bar['Bar'].value_counts().plot(kind='bar')\n",
    "plt.title('Bar Coupon Usage')\n",
    "plt.xlabel('Frequency per month')\n",
    "plt.ylabel('Number of people') \n",
    "plt.xticks(rotation=45, ha='right')  \n",
    "plt.tight_layout()\n",
    "plt.show()\n"
   ]
  },
  {
   "cell_type": "markdown",
   "metadata": {
    "id": "85nA_iEi_qRK"
   },
   "source": [
    "3. Compare the acceptance rate between those who went to a bar 3 or fewer times a month to those who went more.\n"
   ]
  },
  {
   "cell_type": "code",
   "execution_count": 38,
   "metadata": {
    "colab": {
     "base_uri": "https://localhost:8080/"
    },
    "id": "LBOrN-XM_qRK",
    "outputId": "bc33f9a2-f0b8-43a2-d2e8-1d4cf6a8de18"
   },
   "outputs": [
    {
     "name": "stdout",
     "output_type": "stream",
     "text": [
      "\n",
      "Proportion of people that acccepted a coupon and visited a Bar:\n",
      "3 times or less a month: 79.79%\n",
      "More than 3 times a month: 20.21%\n"
     ]
    }
   ],
   "source": [
    "### Count accepted bar coupons of those who went to a bar 3 or fewer times\n",
    "df_bar_3or_less = data_bar.query('Bar in (\"1~3\", \"less1\")')\n",
    "bar_3or_less = len(df_bar_3or_less)\n",
    "\n",
    "df_bar_4or_more = data_bar.query('Bar in (\"4~8\", \"gt8\")')\n",
    "bar_4or_more = len(df_bar_4or_more)\n",
    "\n",
    "proportion_3orless =  (bar_3or_less * 100)/ bar_accept\n",
    "proportion_4ormore =  (bar_4or_more * 100)/ bar_accept\n",
    "\n",
    "\n",
    "print(\"\")\n",
    "print(\"Proportion of people that acccepted a coupon and visited a Bar:\")\n",
    "print(f\"3 times or less a month: {proportion_3orless:.2f}%\")\n",
    "print(f\"More than 3 times a month: {proportion_4ormore:.2f}%\")\n"
   ]
  },
  {
   "cell_type": "code",
   "execution_count": 40,
   "metadata": {},
   "outputs": [
    {
     "data": {
      "image/png": "[encoded data removed]",
      "text/plain": [
       "<Figure size 640x480 with 1 Axes>"
      ]
     },
     "metadata": {},
     "output_type": "display_data"
    }
   ],
   "source": [
    "counts = data_bar['Bar'].value_counts(normalize=True) * 100\n",
    "plt.ylim(0, 100)\n",
    "sns.barplot(x=counts.index, y=counts.values)\n",
    "plt.title('% of drivers that used the Bar coupon and frequency')\n",
    "plt.ylabel('Percentage')\n",
    "plt.show()"
   ]
  },
  {
   "cell_type": "markdown",
   "metadata": {
    "id": "RBgcQwH4_qRK"
   },
   "source": [
    "4. Compare the acceptance rate between drivers who go to a bar more than once a month and are over the age of 25 to the all others.  Is there a difference?\n"
   ]
  },
  {
   "cell_type": "code",
   "execution_count": 43,
   "metadata": {},
   "outputs": [
    {
     "data": {
      "text/plain": [
       "age\n",
       "21         1108\n",
       "26         1025\n",
       "31          726\n",
       "41          446\n",
       "50plus      429\n",
       "36          395\n",
       "46          174\n",
       "below21      85\n",
       "Name: count, dtype: int64"
      ]
     },
     "execution_count": 43,
     "metadata": {},
     "output_type": "execute_result"
    }
   ],
   "source": [
    "# Revision: Problem 4: The current phrasing compares drivers who go to a bar “more than once a month” to all others. \n",
    "#However, for consistency with Problem 3, we might consider revising this to \"more than 3 times a month\" (or \"once or more\" if the intent is to include those who go exactly once). I’ll double-check the dataset to confirm whether “more than once” is accurately distinguishable.\n",
    "\n",
    "#Problem 5: I see your concern about defining the comparison groups. To clarify, this problem compares drivers who (1) go \n",
    "#to bars more than once a month, (2) had passengers that were not a kid, and (3) had occupations other than farming, fishing, or forestry. If consistency with Problem 3 is needed, we could adjust \"more than once a month\" to \"more than 3 times a month\" or explicitly state that we are considering those who go at least once a month. I'll verify this point and update accordingly.\n",
    "\n",
    "#Problem 6: Your suggestion makes sense—\"4 times or more\" would align better with standard phrasing. \n",
    "#I will review this and make necessary adjustments after consulting the team.\n",
    "    \n",
    "\n",
    "#Get the age values\n",
    "data_bar['age'].value_counts()\n"
   ]
  },
  {
   "cell_type": "code",
   "execution_count": 45,
   "metadata": {},
   "outputs": [],
   "source": [
    "# Get the counts for every group Under 25 and Over 25\n",
    "\n",
    "df_bar_3or_less_over25 = data_bar.query('(Bar in (\"1~3\", \"less1\")) and (age not in (\"below21\", \"21\"))')\n",
    "df_bar_3or_less_under25 = data_bar.query('(Bar in (\"1~3\", \"less1\")) and (age in (\"below21\", \"21\"))')\n",
    "\n",
    "df_bar_4or_more_over25 = data_bar.query('(Bar in (\"4~8\", \"gt8\")) and (age not in (\"below21\", \"21\"))')\n",
    "df_bar_4or_more_under25 = data_bar.query('(Bar in (\"4~8\", \"gt8\")) and (age in (\"below21\", \"21\"))')\n",
    "\n",
    "bar_3or_less_over25 = len(df_bar_3or_less_over25)\n",
    "bar_3or_less_under25 = len(df_bar_3or_less_under25)\n",
    "bar_4or_more_under25 = len(df_bar_4or_more_over25)\n",
    "bar_4or_more_over25 = len(df_bar_4or_more_under25)"
   ]
  },
  {
   "cell_type": "code",
   "execution_count": 47,
   "metadata": {},
   "outputs": [
    {
     "name": "stdout",
     "output_type": "stream",
     "text": [
      "Percentage of Drivers that accepted a coupon and visited a Bar\n",
      "Over the Age of 25:\n",
      "3 times or less a month: 58.66%\n",
      "4 times or more a month: 6.06%\n",
      " \n",
      "Under the Age of 25:\n",
      "3 times or less a month: 21.13%\n",
      "4 times or more a month: 14.15%\n"
     ]
    }
   ],
   "source": [
    "# Calculate the proportions\n",
    "\n",
    "p_3or_less_over = (bar_3or_less_over25 * 100 / bar_accept)\n",
    "p_3or_less_under = (bar_3or_less_under25 * 100 / bar_accept)\n",
    "p_4or_more_over = (bar_4or_more_over25 * 100 / bar_accept)\n",
    "p_4or_more_under = (bar_4or_more_under25 * 100 / bar_accept)\n",
    "\n",
    "print(\"Percentage of Drivers that accepted a coupon and visited a Bar\")\n",
    "print(\"Over the Age of 25:\")\n",
    "print(f\"3 times or less a month: {p_3or_less_over:.2f}%\")\n",
    "print(f\"4 times or more a month: {p_4or_more_over:.2f}%\")\n",
    "print(\" \")\n",
    "print(\"Under the Age of 25:\")\n",
    "print(f\"3 times or less a month: {p_3or_less_under:.2f}%\")\n",
    "print(f\"4 times or more a month: {p_4or_more_under:.2f}%\")"
   ]
  },
  {
   "cell_type": "code",
   "execution_count": 49,
   "metadata": {},
   "outputs": [
    {
     "data": {
      "image/png": "[encoded data removed]",
      "text/plain": [
       "<Figure size 1200x500 with 2 Axes>"
      ]
     },
     "metadata": {},
     "output_type": "display_data"
    }
   ],
   "source": [
    "#Graph the results for both groups : Under 25 and Over 25\n",
    "\n",
    "def plot_grouped_bar_charts(df_bar_3or_less_over25, df_bar_4or_more_over25,\n",
    "                             df_bar_3or_less_under25, df_bar_4or_more_under25):\n",
    "\n",
    "    fig, axes = plt.subplots(1, 2, figsize=(12, 5))\n",
    "    plt.ylim(0, 1500)\n",
    "\n",
    "    # Group 1: Over 25 years old\n",
    "    categories_over25 = sorted(list(set(df_bar_3or_less_over25['Bar'].unique()) | set(df_bar_4or_more_over25['Bar'].unique())))\n",
    "    axes[0].set_xticks(range(len(categories_over25)))\n",
    "    axes[0].set_xticklabels(categories_over25, rotation=45, ha='right')\n",
    "\n",
    "    df_bar_3or_less_over25['Bar'].value_counts().reindex(categories_over25).plot(kind='bar', \n",
    "            ax=axes[0], title='Drivers over 25 y.o. that Visited a Bar', position=-0.2, width=0.4)\n",
    "    df_bar_4or_more_over25['Bar'].value_counts().reindex(categories_over25).plot(kind='bar', \n",
    "            ax=axes[0], position=0.1, width=0.3)\n",
    "\n",
    "    # Group 2: Under 25 years old\n",
    "    categories_under25 = sorted(list(set(df_bar_3or_less_under25['Bar'].unique()) | set(df_bar_4or_more_under25['Bar'].unique())))\n",
    "    axes[1].set_xticks(range(len(categories_under25)))\n",
    "    axes[1].set_xticklabels(categories_under25, rotation=45, ha='right')\n",
    "\n",
    "    df_bar_3or_less_under25['Bar'].value_counts().reindex(categories_under25).plot(kind='bar', \n",
    "            ax=axes[1], title='Drivers under 25 y.o. that Visited a Bar', position=-0.2, width=0.4)\n",
    "    df_bar_4or_more_under25['Bar'].value_counts().reindex(categories_under25).plot(kind='bar', \n",
    "            ax=axes[1], position=0.1, width=0.3)\n",
    "\n",
    "    plt.tight_layout()\n",
    "    plt.show()\n",
    "\n",
    "plot_grouped_bar_charts(df_bar_3or_less_over25, df_bar_4or_more_over25, df_bar_3or_less_under25, df_bar_4or_more_under25)"
   ]
  },
  {
   "cell_type": "markdown",
   "metadata": {
    "id": "S4RKT4PJ_qRK"
   },
   "source": [
    "5. Use the same process to compare the acceptance rate between drivers who go to bars more than once a month and had passengers that were not a kid and had occupations other than farming, fishing, or forestry.\n"
   ]
  },
  {
   "cell_type": "code",
   "execution_count": 52,
   "metadata": {
    "id": "Y48naDFh_qRL"
   },
   "outputs": [
    {
     "data": {
      "text/plain": [
       "passanger\n",
       "Alone        7305\n",
       "Friend(s)    3298\n",
       "Partner      1075\n",
       "Kid(s)       1006\n",
       "Name: count, dtype: int64"
      ]
     },
     "execution_count": 52,
     "metadata": {},
     "output_type": "execute_result"
    }
   ],
   "source": [
    "#Get the unique values and counts for the passenger attribute\n",
    "data['passanger'].value_counts()"
   ]
  },
  {
   "cell_type": "code",
   "execution_count": 54,
   "metadata": {
    "id": "sENaI2Tg_qRK",
    "scrolled": true
   },
   "outputs": [
    {
     "name": "stdout",
     "output_type": "stream",
     "text": [
      "Acceptance rate of drivers who went to bars once a month or more, didn't have kids, and their occupation is different than\n",
      "farming, fishing, forestry\n",
      "Rate: 52.48%\n"
     ]
    }
   ],
   "source": [
    "# Drivers who go to bars more than once a month and whose passengers are not kids and their occupations are not farming, fishing or forestry\n",
    "\n",
    "df_group5 = data_bar.query('(Bar in (\"1~3\", \"4~8\", \"gt8\")) and (passanger not in (\"Kid(s)\")) and (occupation not in (\"farming\", \"fishing\", \"forestry\"))')\n",
    "group5 = len(df_group5)\n",
    "group5_rate = (group5 * 100 / bar_accept)\n",
    "\n",
    "print(\"Acceptance rate of drivers who went to bars once a month or more, didn't have kids, and their occupation is different than\")\n",
    "print(\"farming, fishing, forestry\")\n",
    "print(f\"Rate: {group5_rate:.2f}%\")"
   ]
  },
  {
   "cell_type": "markdown",
   "metadata": {
    "id": "n2LIUTil_qRK"
   },
   "source": [
    "6. Compare the acceptance rates between those drivers who:\n",
    "\n",
    "- go to bars more than once a month, had passengers that were not a kid, and were not widowed *OR*\n",
    "- go to bars more than once a month and are under the age of 30 *OR*\n",
    "- go to cheap restaurants more than 4 times a month and income is less than 50K.\n",
    "\n"
   ]
  },
  {
   "cell_type": "code",
   "execution_count": 57,
   "metadata": {},
   "outputs": [
    {
     "data": {
      "text/plain": [
       "age\n",
       "21         1108\n",
       "26         1025\n",
       "31          726\n",
       "41          446\n",
       "50plus      429\n",
       "36          395\n",
       "46          174\n",
       "below21      85\n",
       "Name: count, dtype: int64"
      ]
     },
     "execution_count": 57,
     "metadata": {},
     "output_type": "execute_result"
    }
   ],
   "source": [
    "data_bar['age'].value_counts()"
   ]
  },
  {
   "cell_type": "code",
   "execution_count": 59,
   "metadata": {},
   "outputs": [
    {
     "data": {
      "text/plain": [
       "RestaurantLessThan20\n",
       "1~3      5506\n",
       "4~8      3580\n",
       "less1    2093\n",
       "gt8      1285\n",
       "never     220\n",
       "Name: count, dtype: int64"
      ]
     },
     "execution_count": 59,
     "metadata": {},
     "output_type": "execute_result"
    }
   ],
   "source": [
    "data['RestaurantLessThan20'].value_counts()"
   ]
  },
  {
   "cell_type": "code",
   "execution_count": 61,
   "metadata": {},
   "outputs": [
    {
     "data": {
      "text/plain": [
       "income\n",
       "$25000 - $37499     2013\n",
       "$12500 - $24999     1831\n",
       "$37500 - $49999     1805\n",
       "$100000 or More     1736\n",
       "$50000 - $62499     1659\n",
       "Less than $12500    1042\n",
       "$87500 - $99999      895\n",
       "$75000 - $87499      857\n",
       "$62500 - $74999      846\n",
       "Name: count, dtype: int64"
      ]
     },
     "execution_count": 61,
     "metadata": {},
     "output_type": "execute_result"
    }
   ],
   "source": [
    "data['income'].value_counts()"
   ]
  },
  {
   "cell_type": "code",
   "execution_count": 63,
   "metadata": {},
   "outputs": [],
   "source": [
    "df_group6a = data_bar.query('(Bar in (\"1~3\", \"4~8\", \"gt8\")) and (passanger not in (\"Kid(s)\")) and (maritalStatus not in (\"widowed\"))')\n",
    "df_group6b = data_bar.query('(Bar in (\"1~3\", \"4~8\", \"gt8\")) and (age in (\"below21\", \"21\", \"26\")) and (maritalStatus not in (\"widowed\"))')\n",
    "df_group6c = data_bar.query('(RestaurantLessThan20 in (\"4~8\", \"gt8\")) and (income in (\"$25000 - $37499\", \"$12500 - $24999\", \"$37500 - $49999\", \"Less than $12500\"))')\n",
    "df_group6d = data_bar.query('(RestaurantLessThan20 in (\"4~8\", \"gt8\")) and (income not in (\"$25000 - $37499\", \"$12500 - $24999\", \"$37500 - $49999\", \"Less than $12500\"))')\n",
    "\n",
    "group6a = len(df_group6a) \n",
    "group6b = len(df_group6b)\n",
    "group6c = len(df_group6c)\n",
    "group6d = len(df_group6d)\n",
    "\n",
    "p6a = (group6a * 100) / bar_accept\n",
    "p6b = (group6b * 100) / bar_accept\n",
    "p6c = (group6c * 100) / bar_accept\n",
    "p6d = (group6d * 100) / bar_accept\n",
    "\n"
   ]
  },
  {
   "cell_type": "code",
   "execution_count": 65,
   "metadata": {
    "colab": {
     "base_uri": "https://localhost:8080/",
     "height": 146
    },
    "id": "aK_wEzx7_qRK",
    "outputId": "8b57c261-a4bb-40f3-8724-4495d628b54d"
   },
   "outputs": [
    {
     "name": "stdout",
     "output_type": "stream",
     "text": [
      "\n",
      "Acceptance Rates:\n",
      "People that go to bars more than once a month, had passengers that were not kids and were not widowed: 52.48%\n",
      "People that went to the bar more than once a month and are under 30: 32.52%\n",
      "People that go to cheap restaurants more than 4 times a month and income is less than 50K: 19.05%\n",
      "People that go to cheap restaurants more than 4 times a month and income is greater than 50K: 24.77%\n"
     ]
    }
   ],
   "source": [
    "print(\"\")\n",
    "print(\"Acceptance Rates:\")\n",
    "print(f\"People that go to bars more than once a month, had passengers that were not kids and were not widowed: {p6a:.2f}%\")\n",
    "print(f\"People that went to the bar more than once a month and are under 30: {p6b:.2f}%\")\n",
    "print(f\"People that go to cheap restaurants more than 4 times a month and income is less than 50K: {p6c:.2f}%\")\n",
    "print(f\"People that go to cheap restaurants more than 4 times a month and income is greater than 50K: {p6d:.2f}%\")\n"
   ]
  },
  {
   "cell_type": "markdown",
   "metadata": {
    "id": "v3fL3QkO_qRK"
   },
   "source": [
    "7.  Based on these observations, what do you hypothesize about drivers who accepted the bar coupons?"
   ]
  },
  {
   "cell_type": "markdown",
   "metadata": {
    "id": "r4Hu1zOb_qRL"
   },
   "source": [
    "### Independent Investigation\n",
    "\n",
    "Using the bar coupon example as motivation, you are to explore one of the other coupon groups and try to determine the characteristics of passengers who accept the coupons.  "
   ]
  },
  {
   "cell_type": "code",
   "execution_count": 69,
   "metadata": {
    "id": "0c71cQhu_qRL"
   },
   "outputs": [
    {
     "data": {
      "image/png": "[encoded data removed]",
      "text/plain": [
       "<Figure size 640x480 with 1 Axes>"
      ]
     },
     "metadata": {},
     "output_type": "display_data"
    }
   ],
   "source": [
    "#Plot the Income attribute\n",
    "counts = data['CoffeeHouse'].value_counts()\n",
    "plt.ylim(0, 4000)\n",
    "sns.barplot(x=counts.index, y=counts.values)\n",
    "plt.xticks(rotation=45, ha='right') \n",
    "\n",
    "plt.xlabel('Frequency of Visits')\n",
    "plt.ylabel('Number of Drivers that Visited a Coffee House')\n",
    "plt.show()"
   ]
  },
  {
   "cell_type": "code",
   "execution_count": 71,
   "metadata": {
    "id": "QEsBkvIN_qRL"
   },
   "outputs": [
    {
     "name": "stdout",
     "output_type": "stream",
     "text": [
      "Acceptance rate of Coffee House coupon by drivers that visited at least once a month in the following categories:\n",
      "Under 30 y.o: 27.84%\n",
      "Over 30 y.o:  26.07%\n",
      "\n",
      "Income Under $50K: 29.04%\n",
      "Income Over $50K: 24.87%\n"
     ]
    }
   ],
   "source": [
    "df_group7a = data_accept.query('(CoffeeHouse in (\"1~3\", \"4~8\", \"gt8\")) and (age in (\"below21\", \"21\", \"26\"))')\n",
    "df_group7b = data_accept.query('(CoffeeHouse in (\"1~3\", \"4~8\", \"gt8\")) and (age not in (\"below21\", \"21\", \"26\"))')\n",
    "\n",
    "df_group7c = data_accept.query('(CoffeeHouse in (\"1~3\", \"4~8\", \"gt8\")) and (income in (\"$25000 - $37499\", \"$12500 - $24999\", \"$37500 - $49999\", \"Less than $12500\"))')\n",
    "df_group7d = data_accept.query('(CoffeeHouse in (\"1~3\", \"4~8\", \"gt8\")) and (income not in (\"$25000 - $37499\", \"$12500 - $24999\", \"$37500 - $49999\", \"Less than $12500\"))')\n",
    "\n",
    "group7a = len(df_group7a) \n",
    "group7b = len(df_group7b)\n",
    "group7c = len(df_group7c)\n",
    "group7d = len(df_group7d)\n",
    "\n",
    "p7a = (group7a * 100) / accepted_coupon\n",
    "p7b = (group7b * 100) / accepted_coupon\n",
    "p7c = (group7c * 100) / accepted_coupon\n",
    "p7d = (group7d * 100) / accepted_coupon\n",
    "\n",
    "print (\"Acceptance rate of Coffee House coupon by drivers that visited at least once a month in the following categories:\")\n",
    "print(f\"Under 30 y.o: {p7a:.2f}%\")\n",
    "print(f\"Over 30 y.o:  {p7b:.2f}%\")\n",
    "print(\"\")\n",
    "print(f\"Income Under $50K: {p7c:.2f}%\")\n",
    "print(f\"Income Over $50K: {p7d:.2f}%\")\n"
   ]
  },
  {
   "cell_type": "code",
   "execution_count": null,
   "metadata": {},
   "outputs": [],
   "source": []
  },
  {
   "cell_type": "code",
   "execution_count": null,
   "metadata": {},
   "outputs": [],
   "source": []
  },
  {
   "cell_type": "code",
   "execution_count": null,
   "metadata": {},
   "outputs": [],
   "source": []
  }
 ],
 "metadata": {
  "colab": {
   "provenance": []
  },
  "kernelspec": {
   "display_name": "Python [conda env:base] *",
   "language": "python",
   "name": "conda-base-py"
  },
  "language_info": {
   "codemirror_mode": {
    "name": "ipython",
    "version": 3
   },
   "file_extension": ".py",
   "mimetype": "text/x-python",
   "name": "python",
   "nbconvert_exporter": "python",
   "pygments_lexer": "ipython3",
   "version": "3.12.7"
  }
 },
 "nbformat": 4,
 "nbformat_minor": 4
}
